{
 "cells": [
  {
   "cell_type": "code",
   "execution_count": null,
   "id": "8b4832c3-021b-4975-b026-c89bfbb03580",
   "metadata": {
    "tags": []
   },
   "outputs": [],
   "source": [
    "import altair as alt\n",
    "import pandas as pd"
   ]
  },
  {
   "cell_type": "code",
   "execution_count": null,
   "id": "6e80f457-4b72-44ad-8121-7367ba0204c8",
   "metadata": {
    "tags": []
   },
   "outputs": [],
   "source": [
    "should_have_bought_butter = pd.DataFrame({\n",
    "    \"margarine_consumption\": [8.2, 7, 6.5, 5.3, 5.2, 4, 4.6, 4.5, 4.2, 3.7],\n",
    "    \"maine_divorce_rate\": [5, 4.7, 4.6, 4.4, 4.3, 4.1, 4.2, 4.2, 4.2, 4.1],\n",
    "    \"year\": [2000, 2001, 2002, 2003, 2004, 2005, 2006, 2007, 2008, 2009]\n",
    "})"
   ]
  },
  {
   "cell_type": "code",
   "execution_count": null,
   "id": "e320d2d5-8421-486d-9a38-a2b78667b709",
   "metadata": {
    "tags": []
   },
   "outputs": [],
   "source": [
    "marg_vs_time = alt.Chart(should_have_bought_butter).mark_line(color=\"steelblue\").encode(\n",
    "    x=alt.X(\"year\").title(\"Year\"),\n",
    "    y=alt.Y(\"margarine_consumption\")\n",
    "        .title(\"Margarine consumption (lbs per capita)\")\n",
    "        .scale(zero=False)\n",
    ").properties(\n",
    "    height=250\n",
    ")"
   ]
  },
  {
   "cell_type": "code",
   "execution_count": null,
   "id": "9002a8bf-88cc-4b93-92c4-dc40ab83121f",
   "metadata": {
    "tags": []
   },
   "outputs": [],
   "source": [
    "divorce_rate_vs_time = marg_vs_time.mark_line(color=\"coral\").encode(\n",
    "    y=alt.Y(\"maine_divorce_rate\")\n",
    "        .title(\"Divorce rate in Maine (per 1000\")\n",
    "        .scale(zero=False)\n",
    ")\n"
   ]
  },
  {
   "cell_type": "code",
   "execution_count": null,
   "id": "8c42069f-a2ec-4fb0-a62a-bd64d76e491b",
   "metadata": {
    "tags": []
   },
   "outputs": [],
   "source": [
    "\n",
    "(marg_vs_time | divorce_rate_vs_time).properties(\n",
    "    title=\"Divorce rate in Maine correlates with margarine consumption\"\n",
    ")"
   ]
  },
  {
   "cell_type": "code",
   "execution_count": null,
   "id": "94e3f7af-4d61-4f58-8698-d16f4683e8c4",
   "metadata": {},
   "outputs": [],
   "source": []
  }
 ],
 "metadata": {
  "kernelspec": {
   "display_name": "Python 3 (ipykernel)",
   "language": "python",
   "name": "python3"
  },
  "language_info": {
   "codemirror_mode": {
    "name": "ipython",
    "version": 3
   },
   "file_extension": ".py",
   "mimetype": "text/x-python",
   "name": "python",
   "nbconvert_exporter": "python",
   "pygments_lexer": "ipython3",
   "version": "3.10.8"
  }
 },
 "nbformat": 4,
 "nbformat_minor": 5
}
